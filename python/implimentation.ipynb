{
 "cells": [
  {
   "cell_type": "code",
   "execution_count": null,
   "metadata": {},
   "outputs": [],
   "source": [
    "import numpy as np\n",
    "\n",
    "#Load XYZ file\n",
    "xyz_file = r\"./salt_3UC.xyz\"\n",
    "species = np.loadtxt(xyz_file, skiprows = 2, usecols = (0,), dtype = str)\n",
    "posns = np.loadtxt(xyz_file, skiprows = 2, usecols = (1,2,3))\n",
    "N_atoms = len(species)\n",
    "print(N_atoms)\n",
    "species_map = {\"Na\" : 1, \"Cl\" : 2}\n",
    "charge_map = {\"Na\" : 1, \"Cl\" : -1}"
   ]
  }
 ],
 "metadata": {
  "language_info": {
   "name": "python"
  }
 },
 "nbformat": 4,
 "nbformat_minor": 2
}
