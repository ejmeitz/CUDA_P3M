{
 "cells": [
  {
   "cell_type": "code",
   "execution_count": 1,
   "id": "7562061b",
   "metadata": {},
   "outputs": [],
   "source": [
    "import numpy as np\n",
    "import timeit\n",
    "import math\n",
    "import matplotlib.pyplot as plt"
   ]
  },
  {
   "cell_type": "markdown",
   "id": "579fe40a",
   "metadata": {},
   "source": [
    "### XYZ to LAMMPS Input"
   ]
  },
  {
   "cell_type": "code",
   "execution_count": 2,
   "id": "adea32a3",
   "metadata": {},
   "outputs": [
    {
     "name": "stdout",
     "output_type": "stream",
     "text": [
      "216\n"
     ]
    }
   ],
   "source": [
    "#Load XYZ file\n",
    "xyz_file = r\"./salt_3UC.xyz\"\n",
    "species = np.loadtxt(xyz_file, skiprows = 2, usecols = (0,), dtype = str)\n",
    "posns = np.loadtxt(xyz_file, skiprows = 2, usecols = (1,2,3))\n",
    "N_atoms = len(species)\n",
    "print(N_atoms)"
   ]
  },
  {
   "cell_type": "code",
   "execution_count": 3,
   "id": "384db6d6",
   "metadata": {},
   "outputs": [],
   "source": [
    "species_map = {\"Na\" : 1, \"Cl\" : 2}\n",
    "charge_map = {\"Na\" : 1, \"Cl\" : -1}"
   ]
  },
  {
   "cell_type": "code",
   "execution_count": 4,
   "id": "d29103de",
   "metadata": {},
   "outputs": [],
   "source": [
    "lammps_file = r\"./salt3UC.positions\"\n",
    "with open(lammps_file, \"a\") as f:\n",
    "    for i in range(N_atoms):\n",
    "        f.write(f\"{i+1} {species_map[species[i]]} {charge_map[species[i]]} {posns[i,0]} {posns[i,1]} {posns[i,2]} 0 0 0\\n\")\n",
    "    \n",
    "    f.write(\"\\nVelocities\\n\\n\")\n",
    "    for i in range(N_atoms):\n",
    "        f.write(f\"{i+1} 0 0 0\\n\")"
   ]
  },
  {
   "cell_type": "markdown",
   "id": "7feb7349",
   "metadata": {},
   "source": [
    "### Time B-Spline Functions"
   ]
  },
  {
   "cell_type": "code",
   "execution_count": 56,
   "id": "19f65e67",
   "metadata": {},
   "outputs": [
    {
     "name": "stdout",
     "output_type": "stream",
     "text": [
      "-3.418684928669254e-13\n"
     ]
    }
   ],
   "source": [
    "\n",
    "def M(u, n):\n",
    "    if n > 2:\n",
    "        return (u/(n-1))*M(u,n-1) + ((n-u)/(n-1))*M(u-1,n-1)\n",
    "    elif n == 2:\n",
    "        if u >= 0 and u <= 2:\n",
    "            return 1 - np.abs(u-1)\n",
    "        else:\n",
    "            return 0\n",
    "    else:\n",
    "        print(\"Shouldn't be here\")\n",
    "\n",
    "#equivalent, time to see whats faster\n",
    "def M2(u, n):\n",
    "    return (1/math.factorial(n-1)) * np.sum([((-1)**k)*math.comb(n,k)*np.power(max(u-k, 0), n-1) for k in range(n+1)])\n",
    "\n",
    "\n",
    "n = 5\n",
    "u_vals = 7*np.random.random((4000,))\n",
    "\n",
    "m1 = np.array([M(u_vals[i],n) for i in range(len(u_vals))])\n",
    "m2 = np.array([M2(u_vals[i], n) for i in range(len(u_vals))])\n",
    "print(np.sum(m1 - m2))"
   ]
  },
  {
   "cell_type": "code",
   "execution_count": 57,
   "id": "e053eb54",
   "metadata": {},
   "outputs": [],
   "source": [
    "# num_iterations = 100 #timeit is a fucking garbage library\n",
    "# execution_time = timeit.Timer(M(u,4), number=num_iterations)\n",
    "# execution_time2 = timeit.Timer(M2(u,4), number=num_iterations)\n",
    "\n",
    "\n",
    "# # Calculate average execution time\n",
    "# average_execution_time = execution_time / num_iterations\n",
    "# print(average_execution_time)\n",
    "# average_execution_time2 = execution_time2 / num_iterations\n",
    "# print(average_execution_time2)"
   ]
  },
  {
   "cell_type": "markdown",
   "id": "1c8f71c9",
   "metadata": {},
   "source": [
    "### Charge Interpolation 2D"
   ]
  },
  {
   "cell_type": "code",
   "execution_count": 98,
   "id": "96c754e8",
   "metadata": {},
   "outputs": [],
   "source": [
    "a = 2\n",
    "lat_vecs = np.array([[a,0],[0,a]])\n",
    "rec_lat_vecs = np.array([[1/a,0],[0,1/a]])\n",
    "\n",
    "n = 4 #spline interpolation order\n",
    "K1 = 20\n",
    "K2 = 20\n",
    "\n",
    "mesh_dims = np.array([K1,K2])\n",
    "\n",
    "charges = [-1,1,1,-1]\n",
    "r = np.array([[0.5,0.5], [1.5,0.5], [0.5,1.5], [1.5,1.5]])\n",
    "u = np.zeros_like(r)\n",
    "\n",
    "for i in range(len(charges)):\n",
    "    for dim in range(2):\n",
    "        u[i,dim] = np.dot(mesh_dims[dim]*rec_lat_vecs[dim], r[i,:])\n"
   ]
  },
  {
   "cell_type": "code",
   "execution_count": 99,
   "id": "9831943b",
   "metadata": {},
   "outputs": [],
   "source": [
    "# n_atoms = len(charges)\n",
    "# M_coeffs = np.zeros((n_atoms, 2, n + 1))\n",
    "\n",
    "# for i in range(n_atoms):\n",
    "#     for dim in range(2):\n",
    "#         for j in range(n+1):\n",
    "#             M_coeffs[i,dim,j] = M(u[i,dim] - j, n)"
   ]
  },
  {
   "cell_type": "code",
   "execution_count": 100,
   "id": "fd9ddefe",
   "metadata": {},
   "outputs": [],
   "source": [
    "# Q = np.zeros((K1,K2))\n",
    "        \n",
    "# #Full eqn -- the inner loop doesnt need to be over all K1,K2 just n^3 NN\n",
    "# for k1 in range(K1):\n",
    "#     for k2 in range(K2):\n",
    "        \n",
    "#         for i in range(len(charges)):\n",
    "\n",
    "#             for p1 in range(K1):\n",
    "#                 for p2 in range(K2):\n",
    "#                     Q[k1, k2] += charges[i] * M(u[i,0] - k1 - p1*K1, n) * M(u[i,1] - k2 - p2*K2, n)"
   ]
  },
  {
   "cell_type": "code",
   "execution_count": 115,
   "id": "84b1116a",
   "metadata": {},
   "outputs": [],
   "source": [
    "#straight copying from https://github.com/jht0664/structurefactor_spme/blob/master/run_sq.py#L274\n",
    "def b_spline(u,n):\n",
    "    # define m2 for n-1 values\n",
    "    mn=np.zeros((n,n))\n",
    "    for i in range(1,n):\n",
    "        ui = u - np.float_(i-1)\n",
    "        if (ui < 0.0) or (ui > 2.0):\n",
    "            mn[1,i] = 0.0\n",
    "        else:\n",
    "            mn[1,i] = 1.0 - np.abs(ui - 1.0)\n",
    "    # define mj recursively for n-1-(j-1) values\n",
    "    for j in range(2,n):\n",
    "        for i in range(1,n-j+1):\n",
    "            ui = u - np.float_(i-1)\n",
    "            mn[j,i]=(ui/np.float_(j))*mn[j-1,i]+((np.float_(j+1)-ui)/np.float_(j))*mn[j-1,i+1]\n",
    "    return mn[n-1,1]\n",
    "\n",
    "spline_grid = 100000 #resolution to pre-calculate b-splines\n",
    "b_spline_arr = np.empty(spline_grid)\n",
    "for i in range(spline_grid):\n",
    "    b_spline_arr[i] = b_spline(6.0/np.float_(spline_grid)*np.float_(i+1),6)"
   ]
  },
  {
   "cell_type": "code",
   "execution_count": 114,
   "id": "fba3a426",
   "metadata": {},
   "outputs": [
    {
     "name": "stdout",
     "output_type": "stream",
     "text": [
      "[5. 5.]\n",
      "-95.0\n",
      "-95.0\n",
      "-95.0\n",
      "-95.0\n",
      "-76.0\n",
      "-76.0\n",
      "-76.0\n",
      "-76.0\n",
      "-57.0\n",
      "-57.0\n",
      "-57.0\n",
      "-57.0\n",
      "-38.0\n",
      "-38.0\n",
      "-38.0\n",
      "-38.0\n",
      "[15.  5.]\n",
      "-285.0\n",
      "-285.0\n",
      "-285.0\n",
      "-285.0\n",
      "-266.0\n",
      "-266.0\n",
      "-266.0\n",
      "-266.0\n",
      "-247.0\n",
      "-247.0\n",
      "-247.0\n",
      "-247.0\n",
      "-228.0\n",
      "-228.0\n",
      "-228.0\n",
      "-228.0\n",
      "[ 5. 15.]\n",
      "-95.0\n",
      "-95.0\n",
      "-95.0\n",
      "-95.0\n",
      "-76.0\n",
      "-76.0\n",
      "-76.0\n",
      "-76.0\n",
      "-57.0\n",
      "-57.0\n",
      "-57.0\n",
      "-57.0\n",
      "-38.0\n",
      "-38.0\n",
      "-38.0\n",
      "-38.0\n",
      "[15. 15.]\n",
      "-285.0\n",
      "-285.0\n",
      "-285.0\n",
      "-285.0\n",
      "-266.0\n",
      "-266.0\n",
      "-266.0\n",
      "-266.0\n",
      "-247.0\n",
      "-247.0\n",
      "-247.0\n",
      "-247.0\n",
      "-228.0\n",
      "-228.0\n",
      "-228.0\n",
      "-228.0\n"
     ]
    }
   ],
   "source": [
    "def grid_Q(xyz,Ks,n,n_grid,bo_spline):\n",
    "\tout_q = np.zeros(Ks)\n",
    "\tn_atom=np.shape(xyz)[0]\n",
    "\tu = np.empty(2)\n",
    "\targ = np.empty(2) # distance between (original pt - nearpt), adding one element from range(spline_order)\n",
    "\tfor j in range(n_atom):\n",
    "\t\tu=xyz[j]\n",
    "\t\tnearpt=np.int_(np.floor(u))\n",
    "\t\t# only need to go to k=0,n-1, for k=n, arg > n, so don't consider this\n",
    "\t\tfor k1 in range(n):\n",
    "\t\t\tn1 = nearpt[0]-k1\n",
    "\t\t\targ[0] = u[0]-np.float_(n1)\n",
    "\t\t\t# shift index of array storage if < 0\n",
    "\t\t\tn1 = np.mod(n1,K)\n",
    "\t\t\tfor k2 in range(n):\n",
    "\t\t\t\tn2 = nearpt[1]-k2\n",
    "\t\t\t\targ[1] = u[1]-np.float_(n2)\n",
    "\t\t\t\tn2 = np.mod(n2,K)\n",
    "\t\t\t\t\n",
    "                splindex = np.ceil(arg/6.0*np.float_(n_grid))\n",
    "                splindex = np.int_(splindex) \n",
    "                # note 0<arg<n , so arg should always be within bounds of gridded spline\n",
    "                # we assume spline_order is 6\n",
    "                sum = bo_spline[splindex[0]]*bo_spline[splindex[1]]*bo_spline[splindex[2]]\n",
    "                out_q[n1,n2,n3] = out_q[n1,n2,n3] + sum\n",
    "\treturn copy.copy(out_q)\n",
    "\n",
    "def grid_Q_1ed(xyz,K,n,n_grid,bo_spline):\n",
    "\tout_q = np.zeros((K,K,K))\n",
    "\tn_atom=np.shape(xyz)[0]\n",
    "\tfor j in range(n_atom):\n",
    "\t\tu=xyz[j]\n",
    "\t\tnearpt=np.int_(np.floor(u))\n",
    "\t\t# generate all possible n vectors based on nearpt via np.meshgrid\n",
    "\t\t# indexing='ij' -> change x value at first, then y and z.\n",
    "\t\t# indexing='xy' -> change y value at first, then x and z.\n",
    "\t\tn_vectors = np.array(np.meshgrid(np.arange(nearpt[0],nearpt[0]-n,-1),\n",
    "\t\t\tnp.arange(nearpt[1],nearpt[1]-n,-1),\n",
    "\t\t\tnp.arange(nearpt[2],nearpt[2]-n,-1),indexing='xy')).T.reshape(-1,3)\n",
    "\t\targ=np.float_(u-n_vectors)\n",
    "\t\tsplindex = np.int_(np.floor(arg/6.0*np.float_(n_grid)))\n",
    "\t\tsum_coeff = b6_spline[splindex[:,0]]*b6_spline[splindex[:,1]]*b6_spline[splindex[:,2]]\n",
    "\t\tout_q[n_vectors[:,0],n_vectors[:,1],n_vectors[:,2]] = \\\n",
    "\t\t\tout_q[n_vectors[:,0],n_vectors[:,1],n_vectors[:,2]] + sum_coeff\n",
    "\treturn copy.copy(out_q)\n",
    "\n",
    "Q = grid_Q(y, K1, )"
   ]
  },
  {
   "cell_type": "code",
   "execution_count": 106,
   "id": "f336151d",
   "metadata": {},
   "outputs": [
    {
     "data": {
      "text/plain": [
       "(0.0, 19.0)"
      ]
     },
     "execution_count": 106,
     "metadata": {},
     "output_type": "execute_result"
    },
    {
     "data": {
      "image/png": "[encoded data removed]",
      "text/plain": [
       "<Figure size 640x480 with 2 Axes>"
      ]
     },
     "metadata": {},
     "output_type": "display_data"
    }
   ],
   "source": [
    "plt.imshow(Q, origin = \"lower\", cmap = \"rainbow\")\n",
    "plt.colorbar()\n",
    "colors = {-1 : 'b', 1 : 'r'}\n",
    "for i in range(len(charges)):\n",
    "    plt.scatter(u[i,0],u[i,1], c = colors[charges[i]])\n",
    "\n",
    "plt.xlim([0,K1-1])\n",
    "plt.ylim([0,K2-1])"
   ]
  },
  {
   "cell_type": "code",
   "execution_count": null,
   "id": "b7bf279a",
   "metadata": {},
   "outputs": [],
   "source": []
  }
 ],
 "metadata": {
  "kernelspec": {
   "display_name": "Python 3 (ipykernel)",
   "language": "python",
   "name": "python3"
  },
  "language_info": {
   "codemirror_mode": {
    "name": "ipython",
    "version": 3
   },
   "file_extension": ".py",
   "mimetype": "text/x-python",
   "name": "python",
   "nbconvert_exporter": "python",
   "pygments_lexer": "ipython3",
   "version": "3.9.7"
  }
 },
 "nbformat": 4,
 "nbformat_minor": 5
}
