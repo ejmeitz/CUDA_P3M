{
 "cells": [
  {
   "cell_type": "code",
   "execution_count": 1,
   "id": "7562061b",
   "metadata": {},
   "outputs": [],
   "source": [
    "import numpy as np\n",
    "import timeit\n",
    "import math\n",
    "import matplotlib.pyplot as plt\n",
    "import copy"
   ]
  },
  {
   "cell_type": "markdown",
   "id": "31356502",
   "metadata": {},
   "source": [
    "### XYZ to LAMMPS Input"
   ]
  },
  {
   "cell_type": "code",
   "execution_count": 2,
   "id": "adea32a3",
   "metadata": {},
   "outputs": [
    {
     "name": "stdout",
     "output_type": "stream",
     "text": [
      "216\n"
     ]
    }
   ],
   "source": [
    "#Load XYZ file\n",
    "xyz_file = r\"./salt_3UC.xyz\"\n",
    "species = np.loadtxt(xyz_file, skiprows = 2, usecols = (0,), dtype = str)\n",
    "posns = np.loadtxt(xyz_file, skiprows = 2, usecols = (1,2,3))\n",
    "N_atoms = len(species)\n",
    "print(N_atoms)"
   ]
  },
  {
   "cell_type": "code",
   "execution_count": 3,
   "id": "384db6d6",
   "metadata": {},
   "outputs": [],
   "source": [
    "species_map = {\"Na\" : 1, \"Cl\" : 2}\n",
    "charge_map = {\"Na\" : 1, \"Cl\" : -1}"
   ]
  },
  {
   "cell_type": "code",
   "execution_count": 4,
   "id": "d29103de",
   "metadata": {},
   "outputs": [],
   "source": [
    "lammps_file = r\"./salt3UC.positions\"\n",
    "with open(lammps_file, \"a\") as f:\n",
    "    for i in range(N_atoms):\n",
    "        f.write(f\"{i+1} {species_map[species[i]]} {charge_map[species[i]]} {posns[i,0]} {posns[i,1]} {posns[i,2]} 0 0 0\\n\")\n",
    "    \n",
    "    f.write(\"\\nVelocities\\n\\n\")\n",
    "    for i in range(N_atoms):\n",
    "        f.write(f\"{i+1} 0 0 0\\n\")"
   ]
  },
  {
   "cell_type": "markdown",
   "id": "215f80e6",
   "metadata": {},
   "source": [
    "### Time B-Spline Functions"
   ]
  },
  {
   "cell_type": "code",
   "execution_count": 56,
   "id": "19f65e67",
   "metadata": {},
   "outputs": [
    {
     "name": "stdout",
     "output_type": "stream",
     "text": [
      "-3.418684928669254e-13\n"
     ]
    }
   ],
   "source": [
    "\n",
    "def M(u, n):\n",
    "    if n > 2:\n",
    "        return (u/(n-1))*M(u,n-1) + ((n-u)/(n-1))*M(u-1,n-1)\n",
    "    elif n == 2:\n",
    "        if u >= 0 and u <= 2:\n",
    "            return 1 - np.abs(u-1)\n",
    "        else:\n",
    "            return 0\n",
    "    else:\n",
    "        print(\"Shouldn't be here\")\n",
    "\n",
    "#equivalent, time to see whats faster\n",
    "def M2(u, n):\n",
    "    return (1/math.factorial(n-1)) * np.sum([((-1)**k)*math.comb(n,k)*np.power(max(u-k, 0), n-1) for k in range(n+1)])\n",
    "\n",
    "\n",
    "n = 5\n",
    "u_vals = 7*np.random.random((4000,))\n",
    "\n",
    "m1 = np.array([M(u_vals[i],n) for i in range(len(u_vals))])\n",
    "m2 = np.array([M2(u_vals[i], n) for i in range(len(u_vals))])\n",
    "print(np.sum(m1 - m2))"
   ]
  },
  {
   "cell_type": "code",
   "execution_count": 57,
   "id": "e053eb54",
   "metadata": {},
   "outputs": [],
   "source": [
    "# num_iterations = 100 #timeit is a fucking garbage library\n",
    "# execution_time = timeit.Timer(M(u,4), number=num_iterations)\n",
    "# execution_time2 = timeit.Timer(M2(u,4), number=num_iterations)\n",
    "\n",
    "\n",
    "# # Calculate average execution time\n",
    "# average_execution_time = execution_time / num_iterations\n",
    "# print(average_execution_time)\n",
    "# average_execution_time2 = execution_time2 / num_iterations\n",
    "# print(average_execution_time2)"
   ]
  },
  {
   "cell_type": "markdown",
   "id": "e3f34486",
   "metadata": {},
   "source": [
    "### Charge Interpolation 2D"
   ]
  },
  {
   "cell_type": "code",
   "execution_count": 35,
   "id": "f68c23d9",
   "metadata": {},
   "outputs": [],
   "source": [
    "#Make fake system\n",
    "a = 2 #lattice param\n",
    "lat_vecs = np.array([[a,0],[0,a]])\n",
    "rec_lat_vecs = np.array([[1/a,0],[0,1/a]])\n",
    "\n",
    "n = 4 #spline interpolation order\n",
    "K = 21 #num grids in each dim\n",
    "K1 = K\n",
    "K2 = K\n",
    "\n",
    "\n",
    "mesh_dims = np.array([K1,K2])\n",
    "\n",
    "charges = [-1,1,1,-1]\n",
    "r = np.array([[0.5,0.5], [1.5,0.5], [0.5,1.5], [1.5,1.5]])\n",
    "\n",
    "\n",
    "u = np.zeros_like(r)\n",
    "\n",
    "for i in range(len(charges)):\n",
    "    for dim in range(2):\n",
    "        u[i,dim] = np.dot(mesh_dims[dim]*rec_lat_vecs[dim], r[i,:])\n"
   ]
  },
  {
   "cell_type": "code",
   "execution_count": 22,
   "id": "4b774ddc",
   "metadata": {
    "code_folding": [
     1
    ]
   },
   "outputs": [],
   "source": [
    "#straight copying from https://github.com/jht0664/structurefactor_spme/blob/master/run_sq.py#L274\n",
    "def b_spline(u,n):\n",
    "    # define m2 for n-1 values\n",
    "    mn=np.zeros((n,n))\n",
    "    for i in range(1,n):\n",
    "        ui = u - np.float_(i-1)\n",
    "        if (ui < 0.0) or (ui > 2.0):\n",
    "            mn[1,i] = 0.0\n",
    "        else:\n",
    "            mn[1,i] = 1.0 - np.abs(ui - 1.0)\n",
    "    # define mj recursively for n-1-(j-1) values\n",
    "    for j in range(2,n):\n",
    "        for i in range(1,n-j+1):\n",
    "            ui = u - np.float_(i-1)\n",
    "            mn[j,i]=(ui/np.float_(j))*mn[j-1,i]+((np.float_(j+1)-ui)/np.float_(j))*mn[j-1,i+1]\n",
    "    return mn[n-1,1]\n",
    "\n",
    "spline_grid = 100000 #resolution to pre-calculate b-splines\n",
    "b_spline_arr = np.empty(spline_grid)\n",
    "for i in range(spline_grid):\n",
    "    b_spline_arr[i] = b_spline(n/np.float_(spline_grid)*np.float_(i+1),n)"
   ]
  },
  {
   "cell_type": "code",
   "execution_count": 23,
   "id": "43232cb5",
   "metadata": {
    "code_folding": [
     1
    ]
   },
   "outputs": [],
   "source": [
    "#interp energies onto grid (also copied but this does same as my code did)\n",
    "def grid_Q(xyz,K,n,n_grid,bo_spline):\n",
    "\tout_q = np.zeros((K,K))\n",
    "\tn_atom=np.shape(xyz)[0]\n",
    "\tu = np.empty(2)\n",
    "\targ = np.empty(2) # distance between (original pt - nearpt), adding one element from range(spline_order)\n",
    "\tfor j in range(n_atom):\n",
    "\t\tu=xyz[j]\n",
    "\t\tnearpt=np.int_(np.floor(u))\n",
    "\t\t# only need to go to k=0,n-1, for k=n, arg > n, so don't consider this\n",
    "\t\tfor k1 in range(n):\n",
    "\t\t\tn1 = nearpt[0]-k1\n",
    "\t\t\targ[0] = u[0]-np.float_(n1)\n",
    "\t\t\t# shift index of array storage if < 0\n",
    "\t\t\tn1 = np.mod(n1,K)\n",
    "\t\t\tfor k2 in range(n):\n",
    "\t\t\t\tn2 = nearpt[1]-k2\n",
    "\t\t\t\targ[1] = u[1]-np.float_(n2)\n",
    "\t\t\t\tn2 = np.mod(n2,K)\n",
    "\t\t\t\tsplindex = np.ceil(arg/n*np.float_(n_grid))\n",
    "\t\t\t\tsplindex = np.int_(splindex) \n",
    "\t\t\t\t# note 0<arg<n , so arg should always be within bounds of gridded spline\n",
    "\t\t\t\tsum = charges[j]*bo_spline[splindex[0]]*bo_spline[splindex[1]]\n",
    "\t\t\t\tout_q[n1,n2] = out_q[n1,n2] + sum\n",
    "\treturn copy.copy(out_q)\n",
    "\n",
    "Q = grid_Q(u, K1, n, spline_grid, b_spline_arr)\n"
   ]
  },
  {
   "cell_type": "code",
   "execution_count": 47,
   "id": "b17d2d5d",
   "metadata": {},
   "outputs": [
    {
     "name": "stdout",
     "output_type": "stream",
     "text": [
      "[0.0703125  0.61197917 0.31510417 0.00260417]\n",
      "[0.0703125  0.61197917 0.31510417 0.00260417]\n",
      "[0.00260417 0.31510417 0.61197917 0.0703125 ]\n",
      "[0.0703125  0.61197917 0.31510417 0.00260417]\n",
      "[0.0703125  0.61197917 0.31510417 0.00260417]\n",
      "[0.00260417 0.31510417 0.61197917 0.0703125 ]\n",
      "[0.00260417 0.31510417 0.61197917 0.0703125 ]\n",
      "[0.00260417 0.31510417 0.61197917 0.0703125 ]\n"
     ]
    }
   ],
   "source": [
    "def compute_spline(u): #ONLY WORKS FOR ORDER 4\n",
    "    floor_u = np.floor(u);\n",
    "    x = u - floor_u + np.float_(4) - 1.0;\n",
    "\n",
    "    #Compute splines and their derivatives using Horner's method.\n",
    "    a = np.array([\n",
    "        32.0 / 3.0, -8.0, 2.0, -1.0 / 6.0,\n",
    "        -22.0 / 3.0, 10.0, -4.0, 1.0 / 2.0,\n",
    "        2.0 / 3.0, -2.0, 2.0, -1.0 / 2.0,\n",
    "        0.0, 0.0, 0.0, 1.0 / 6.0])\n",
    "    \n",
    "    s = np.zeros(4)\n",
    "    ds = np.zeros(4)\n",
    "    for k in range(4):\n",
    "        s[k] = a[4*k] + (a[4*k+1] + (a[4*k+2] + a[4*k+3] * x) * x) * x;\n",
    "        ds[k] = a[4*k+1] + (2.0 * a[4*k+2] + 3.0 * a[4*k+3] * x) * x;\n",
    "        x = x - 1\n",
    "\n",
    "    return s, ds, floor_u\n",
    "\n",
    "\n",
    "def Q3(u, q, order, K1, K2): #from https://git.sr.ht/~jmbr/libpme6/tree/2e81cacdf941c8114615363fbae59d7f06742838/item/pme.cpp\n",
    "    \n",
    "    M = np.zeros((2, len(q), order))\n",
    "    dM = np.zeros((2, len(q), order))\n",
    "    Q = np.zeros((K1, K2))\n",
    "\n",
    "    for i in range(len(q)):\n",
    "        q_n = q[i]\n",
    "        u_i = u[i]\n",
    "\n",
    "        floor_u = np.zeros(2)\n",
    "        for d in range(2): #2 is dimensions\n",
    "            M[d,i,:], dM[d,i,:], floor_u[d] = compute_spline(u_i[d])\n",
    "\n",
    "        for c0 in range(order):\n",
    "            l0 = floor_u[0] + c0 - order + 1\n",
    "            #           k0 = l0 < 0 ? l0 + K1 : l0\n",
    "            k0 = l0 + K1 if l0 < 0 else l0\n",
    "\n",
    "            q_n_s0 = q_n * M[0,i,c0]\n",
    "\n",
    "        for c1 in range(order):\n",
    "            l1 = floor_u[1] + c1 - order + 1\n",
    "            #             k1 = l1 < 0 ? l1 + K2 : l1\n",
    "            k1 = l1 + K2 if l1 < 0 else l1\n",
    "            \n",
    "\n",
    "            Q[int(k0), int(k1)] += q_n_s0 * M[1,i,c1]\n",
    "    return Q\n",
    "\n",
    "Q = Q3(u, charges, n, K1, K2)"
   ]
  },
  {
   "cell_type": "code",
   "execution_count": 48,
   "id": "4f4476d8",
   "metadata": {},
   "outputs": [
    {
     "data": {
      "text/plain": [
       "(0.0, 20.0)"
      ]
     },
     "execution_count": 48,
     "metadata": {},
     "output_type": "execute_result"
    },
    {
     "data": {
      "image/png": "[encoded data removed]",
      "text/plain": [
       "<Figure size 640x480 with 2 Axes>"
      ]
     },
     "metadata": {},
     "output_type": "display_data"
    }
   ],
   "source": [
    "plt.imshow(Q, origin = \"lower\", cmap = \"rainbow\")\n",
    "plt.colorbar()\n",
    "colors = {-1 : 'b', 1 : 'r'}\n",
    "for i in range(len(charges)):\n",
    "    plt.scatter(u[i,0],u[i,1], c = colors[charges[i]])\n",
    "\n",
    "plt.xlim([0,K1-1])\n",
    "plt.ylim([0,K2-1])"
   ]
  },
  {
   "cell_type": "code",
   "execution_count": null,
   "id": "3c2d3fa9",
   "metadata": {},
   "outputs": [],
   "source": []
  }
 ],
 "metadata": {
  "kernelspec": {
   "display_name": "Python 3 (ipykernel)",
   "language": "python",
   "name": "python3"
  },
  "language_info": {
   "codemirror_mode": {
    "name": "ipython",
    "version": 3
   },
   "file_extension": ".py",
   "mimetype": "text/x-python",
   "name": "python",
   "nbconvert_exporter": "python",
   "pygments_lexer": "ipython3",
   "version": "3.9.7"
  }
 },
 "nbformat": 4,
 "nbformat_minor": 5
}
